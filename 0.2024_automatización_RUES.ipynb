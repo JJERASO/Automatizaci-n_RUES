{
 "cells": [
  {
   "cell_type": "markdown",
   "metadata": {},
   "source": [
    "## Extracción de información de la página del Rues con autenticación"
   ]
  },
  {
   "cell_type": "markdown",
   "metadata": {},
   "source": [
    "<p><b>TIP:</b> Para descomentar una línea de código en Visual Studio Code, puede señalar la línea que se quiera descomentar y utilizar el comando <b>'Ctrl + k + u'</b>. Por el contrario, para comentar una línea puede usar el comando <b>'Ctrl + k + c'</b>. En caso de ya tenerlos instalados no se debe hacer nada.</p><p><b>NOTA:</b> Se debe descargar <b>Chrome Driver</b> que es el navegador de prueba que permitirá ejecutar la automatización, se recomienda instalarlo en el escritorio ya que el código está para que lo ejecute ahí. Puede descargar Chrome Driver en el siguiente link: <a href='URL'>https://developer.chrome.com/docs/chromedriver/downloads?hl=es-419</a>\n",
    "</p>"
   ]
  },
  {
   "cell_type": "markdown",
   "metadata": {},
   "source": [
    "<p>Librerías a cargar, debemos cargar <b>Selenium</b> (automatización de procesos) y <b>Beautifulsoup</b> (web scrapping).</p> Se puede instalar seleccionando todo el bloque de abajo, oprimiendo el comando ctrl+k+u para descomentarlo y luego ejecutandolo"
   ]
  },
  {
   "cell_type": "code",
   "execution_count": null,
   "metadata": {},
   "outputs": [],
   "source": [
    "##%pip install selenium\n",
    "##%pip install Beautifulsoup \n",
    "##%pip install pandas\n",
    "##%pip install openpyxl"
   ]
  },
  {
   "cell_type": "markdown",
   "metadata": {},
   "source": [
    "Cargar las librerías necesarias"
   ]
  },
  {
   "cell_type": "code",
   "execution_count": null,
   "metadata": {},
   "outputs": [],
   "source": [
    "from selenium import webdriver\n",
    "from selenium.webdriver.chrome.service import Service\n",
    "from selenium.webdriver.common.by import By\n",
    "from selenium.webdriver.support.ui import WebDriverWait\n",
    "from selenium.webdriver.support import expected_conditions as EC\n",
    "from bs4 import BeautifulSoup\n",
    "import pandas as pd\n",
    "import time\n",
    "from pathlib import Path"
   ]
  },
  {
   "cell_type": "markdown",
   "metadata": {},
   "source": [
    "<p><b>Ingresar los NITs a extraer información</b>. Si los tiene en un archivo de excel se pueden cargar con lel siguiente bloque de código abajo, solo debe especificar la ruta donde está el archivo y luego especificar el nombre de la columna donde están los nits en el archivo.</p>"
   ]
  },
  {
   "cell_type": "code",
   "execution_count": null,
   "metadata": {},
   "outputs": [],
   "source": [
    "# nits = [] # Aquí se deben cargar los NITs a los cuales se les quiera extraer la información. \n",
    "\n",
    "# Imprimir la lista\n",
    "print(len(nits))"
   ]
  },
  {
   "cell_type": "markdown",
   "metadata": {},
   "source": [
    "<p>Si los nits que quiere buscar la información están en un archivo excel:</p>\n",
    "<p><b>Nota:</b> solo debe reemplazar la ruta del archivo (la cual la puede encontrar dandole click derecho en el archivo y luego en propiedades)</p>"
   ]
  },
  {
   "cell_type": "code",
   "execution_count": null,
   "metadata": {},
   "outputs": [],
   "source": [
    "## Si tiene un archivo excel:\n",
    "# archivo_nits = pd.read_excel(ruta_del_archivo, dtype=object)\n",
    "# nits = archivo_nits['nombre_de_la_columna_donde estan_los_nits'].tolist()\n",
    "# print(len(nits))\n",
    "# print(nits)"
   ]
  },
  {
   "cell_type": "markdown",
   "metadata": {},
   "source": [
    "**Iniciar sesión**. Se debe ingresar el usuario y contraseña"
   ]
  },
  {
   "cell_type": "code",
   "execution_count": 1,
   "metadata": {},
   "outputs": [],
   "source": [
    "# Credenciales de login\n",
    "username = 'XXXXXX'\n",
    "password = 'XXXXXX'"
   ]
  },
  {
   "cell_type": "markdown",
   "metadata": {},
   "source": [
    "Abrir el chromeDriver. Aquí se debe actualizar la ruta donde se haya instalado el ChromeDriver. Por recomendación, lo mejor es instalarlo en la aplicación de escritorio (el usuario se llama practeec, en caso de que ya no sea así debe cambiarlo). Además iniciaremos sesión automaticamente, aunque también se puede hacer de forma manual (si el usuario y/o contraseña cambia, deben cambairse estos valores en el código)"
   ]
  },
  {
   "cell_type": "code",
   "execution_count": null,
   "metadata": {},
   "outputs": [],
   "source": [
    "# Ruta al ejecutable de ChromeDriver (ajusta esta ruta según donde hayas descargado el driver)\n",
    "chrome_driver_path = Path.home() / 'Desktop' / 'Chromedriver.exe'\n",
    "# Crear una instancia del servicio de ChromeDriver\n",
    "service = Service(chrome_driver_path)\n",
    "# Inicializar el navegador usando el servicio\n",
    "driver = webdriver.Chrome(service=service)\n",
    "# URL de la página de login\n",
    "login_url = \"https://www.rues.org.co/?old=true\"\n",
    "\n",
    "# Navegar a la página de login\n",
    "driver.get(login_url)\n",
    "\n",
    "# Botón cerrar emergente\n",
    "xpath_boton_cerrar_emergente = \"//button[@class='btn btn-success btn-sm']\"\n",
    "boton_cerrar_emergente = WebDriverWait(driver, 10).until(EC.visibility_of_element_located((By.XPATH, xpath_boton_cerrar_emergente)))\n",
    "driver.execute_script(\"arguments[0].scrollIntoView();\", boton_cerrar_emergente)\n",
    "boton_cerrar_emergente.click()\n",
    "# Darle tiempo (5 segundos)\n",
    "time.sleep(5)\n",
    "\n",
    "#Hacer click en el botón de acceso\n",
    "WebDriverWait(driver, 10).until(EC.element_to_be_clickable((By.CLASS_NAME, 'login-call'))).click()\n",
    "\n",
    "# Encontrar los campos de login y enviar las credenciales\n",
    "try:\n",
    "    email_element = WebDriverWait(driver, 10).until(EC.visibility_of_element_located((By.ID, 'Email')))\n",
    "    password_element = WebDriverWait(driver, 10).until(EC.visibility_of_element_located((By.ID, 'Password')))\n",
    "    \n",
    "    # Desplazarse a los elementos para asegurarse de que están visibles\n",
    "    driver.execute_script(\"arguments[0].scrollIntoView();\", email_element)\n",
    "    driver.execute_script(\"arguments[0].scrollIntoView();\", password_element)\n",
    "    \n",
    "    email_element.send_keys(username)\n",
    "    password_element.send_keys(password)\n",
    "except (TimeoutException, ElementNotInteractableException) as e:\n",
    "    print(\"No se pudo interactuar con los campos de login:\", e)\n",
    "    driver.quit()\n",
    "    raise\n",
    "\n",
    "# Encontrar el botón por su texto y hacer clic\n",
    "driver.find_element(By.CLASS_NAME, 'btn-blue').click() # Ajusta según el botón de submit"
   ]
  },
  {
   "cell_type": "markdown",
   "metadata": {},
   "source": [
    "### Aquí empieza el ciclo for para los n NITs"
   ]
  },
  {
   "cell_type": "code",
   "execution_count": null,
   "metadata": {},
   "outputs": [],
   "source": [
    "# Matriz a rellenar más adelante\n",
    "data = {\n",
    "    'Nit': None,\n",
    "    'Activo Total': None,\n",
    "    'Pasivo Total': None,\n",
    "    'Patrimonio': None,\n",
    "    'Ingresos Actividad Ordinaria': None,\n",
    "    'Utilidad/Perdida Operacional': None,\n",
    "    'Resultado del Periodo': None\n",
    "}\n",
    "\n",
    "# Ciclo for para los n NITs enlistados\n",
    "results = []\n",
    "\n",
    "for nit in nits:\n",
    "   \n",
    "    try:\n",
    "        # Esperar hasta que el campo de \"Número de identificación\" esté presente y realizar la consulta\n",
    "        WebDriverWait(driver, 10).until(EC.presence_of_element_located((By.ID, 'txtNIT')))\n",
    "        driver.find_element(By.ID, 'txtNIT').send_keys(nit)\n",
    "        driver.find_element(By.ID, \"btnConsultaNIT\").click()\n",
    "\n",
    "        # Esperar hasta que el botón esté presente y hacer clic\n",
    "        \n",
    "        # Encontrar la celda que contiene el texto \"ACTIVA\"\n",
    "        activa_td_xpath = \"//table[@id='rmTable2']//tbody//tr//td[text()='ACTIVA']\"\n",
    "        activa_td = WebDriverWait(driver, 10).until(\n",
    "            EC.presence_of_element_located((By.XPATH, activa_td_xpath))\n",
    "        )\n",
    "        # Encontrar la fila padre de la celda encontrada\n",
    "        parent_row = activa_td.find_element(By.XPATH, \"./ancestor::tr\")\n",
    "        # Encontrar la celda con tabindex=\"0\" en la misma fila\n",
    "        target_td = parent_row.find_element(By.XPATH, \".//td[@tabindex='0']\")\n",
    "        # Esperar a que la celda con tabindex=\"0\" sea clicable\n",
    "        WebDriverWait(driver, 10).until(\n",
    "            EC.element_to_be_clickable((By.XPATH, \".//td[@tabindex='0']\"))\n",
    "        )\n",
    "        # Hacer clic en la celda con tabindex=\"0\"\n",
    "        target_td.click()\n",
    "\n",
    "        # Dar click en el link de info\n",
    "        encontrar_link = WebDriverWait(driver, 20).until(EC.element_to_be_clickable((By.LINK_TEXT, \"nfo\")))\n",
    "        encontrar_link.click()\n",
    "\n",
    "        # Dar click en el botón de info financiera\n",
    "        xpath_ver_info_financiera = \"(//span[contains(text(), 'Ver información')])[1]\"\n",
    "        ver_info_link = WebDriverWait(driver, 20).until(EC.presence_of_element_located((By.XPATH, xpath_ver_info_financiera)))\n",
    "        WebDriverWait(driver, 20).until(EC.visibility_of(ver_info_link))\n",
    "        WebDriverWait(driver, 20).until(EC.element_to_be_clickable((By.XPATH, xpath_ver_info_financiera)))\n",
    "        driver.execute_script(\"arguments[0].scrollIntoView(true);\", ver_info_link)\n",
    "        driver.execute_script(\"arguments[0].click();\", ver_info_link)\n",
    "\n",
    "        # Dar click en el botón 2024\n",
    "        xpath_2024 = \"//div[@id='2024']//button\"\n",
    "        ver_2024_link = WebDriverWait(driver, 20).until(EC.presence_of_element_located((By.XPATH, xpath_2024)))\n",
    "        WebDriverWait(driver, 20).until(EC.visibility_of(ver_2024_link))\n",
    "        WebDriverWait(driver, 10).until(EC.element_to_be_clickable((By.XPATH, xpath_2024)))\n",
    "        driver.execute_script(\"arguments[0].scrollIntoView(true);\", ver_2024_link)\n",
    "        driver.execute_script(\"arguments[0].click();\", ver_2024_link)\n",
    "\n",
    "        # Esperar hasta que la tabla esté presente\n",
    "        xpath_tabla_2024 = \"//div[@id='collapse-2024']//table\"\n",
    "        WebDriverWait(driver, 10).until(EC.presence_of_element_located((By.XPATH, xpath_tabla_2024)))\n",
    "\n",
    "        # Extraer el contenido de la página\n",
    "        page_source = driver.page_source\n",
    "\n",
    "        # Analizar el contenido con BeautifulSoup\n",
    "        soup = BeautifulSoup(page_source, 'html.parser')\n",
    "\n",
    "        # Buscar la tabla con datos\n",
    "        table = soup.select_one('div#collapse-2024 table')\n",
    "        data = {'NIT': nit}\n",
    "        if table:\n",
    "            # Extraer todas las filas de la tabla\n",
    "            rows = table.find_all('tr')\n",
    "            for row in rows:\n",
    "                # Extraer todas las celdas de la fila\n",
    "                cells = row.find_all('td')\n",
    "                cell_data = [cell.text.strip() for cell in cells]\n",
    "                if 'Activo Total' in cell_data[0]:\n",
    "                    data['Activo Total'] = cell_data[1]\n",
    "                elif 'Pasivo Total' in cell_data[0]:\n",
    "                    data['Pasivo Total'] = cell_data[1]\n",
    "                elif 'Patrimonio' in cell_data[0]:\n",
    "                    data['Patrimonio'] = cell_data[1]\n",
    "                elif 'Ingresos Actividad Ordinaria' in cell_data[0]:\n",
    "                    data['Ingresos Actividad Ordinaria'] = cell_data[1]\n",
    "                elif 'Utilidad/Perdida Operacional' in cell_data[0]:\n",
    "                    data['Utilidad/Perdida Operacional'] = cell_data[1]\n",
    "                elif 'Resultado del Periodo' in cell_data[0]:\n",
    "                    data['Resultado del Periodo'] = cell_data[1]\n",
    "        else:\n",
    "            print(\"No se encontró la tabla de datos\")\n",
    "\n",
    "        # Agregar los datos del NIT actual a la lista de resultados\n",
    "        results.append(data)\n",
    "\n",
    "        # Dar click en el botón de regresar para que se pueda iniciar la otra consulta\n",
    "        boton_regresar_xpath = \"//a[@class='btn-gt']\"\n",
    "        ver_boton_regresar = WebDriverWait(driver, 20).until(EC.presence_of_element_located((By.XPATH, boton_regresar_xpath)))\n",
    "        WebDriverWait(driver, 20).until(EC.visibility_of(ver_boton_regresar))\n",
    "        WebDriverWait(driver, 10).until(EC.element_to_be_clickable((By.XPATH, boton_regresar_xpath)))\n",
    "        driver.execute_script(\"arguments[0].scrollIntoView(true);\", ver_boton_regresar)\n",
    "        driver.execute_script(\"arguments[0].click();\", ver_boton_regresar)\n",
    "\n",
    "    except TimeoutException as e:\n",
    "        print(f\"Hubo un problema al intentar interactuar con el NIT {nit}:\", e)\n",
    "\n",
    "# Convertir los resultados a un DataFrame de pandas para facilitar la manipulación\n",
    "df = pd.DataFrame(results)"
   ]
  },
  {
   "cell_type": "markdown",
   "metadata": {},
   "source": [
    "Hasta aquí iría el ciclo for para cada NIT. Se procede a descargar en formato excel. Por facilidad se descargará en escritorio pero se puede modificar esta ruta si así lo desea"
   ]
  },
  {
   "cell_type": "code",
   "execution_count": null,
   "metadata": {},
   "outputs": [],
   "source": [
    "# Pasar las variables a valor numérico y luego a integer\n",
    "df = df.apply(pd.to_numeric, errors='coerce')\n",
    "df = df.fillna(0).astype(int)\n",
    "print(df.dtypes)\n",
    "\n",
    "# Ruta carpeta para guardar el archivo\n",
    "rues_descarga_path = Path.home() / 'Desktop' / '2024_rues.xlsx'\n",
    "# Crear el archivo excel \n",
    "df.to_excel(rues_descarga_path, index=False)\n",
    "\n",
    "# Cerrar el navegador\n",
    "driver.quit()"
   ]
  }
 ],
 "metadata": {
  "kernelspec": {
   "display_name": "Python 3",
   "language": "python",
   "name": "python3"
  },
  "language_info": {
   "codemirror_mode": {
    "name": "ipython",
    "version": 3
   },
   "file_extension": ".py",
   "mimetype": "text/x-python",
   "name": "python",
   "nbconvert_exporter": "python",
   "pygments_lexer": "ipython3",
   "version": "3.12.2"
  }
 },
 "nbformat": 4,
 "nbformat_minor": 2
}
